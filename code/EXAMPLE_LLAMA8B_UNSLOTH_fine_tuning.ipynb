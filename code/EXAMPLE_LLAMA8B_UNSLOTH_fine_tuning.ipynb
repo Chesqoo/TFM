{
  "nbformat": 4,
  "nbformat_minor": 0,
  "metadata": {
    "colab": {
      "provenance": [],
      "authorship_tag": "ABX9TyOzs4uYoWAQKN5drCtxRX8x",
      "include_colab_link": true
    },
    "kernelspec": {
      "name": "python3",
      "display_name": "Python 3"
    },
    "language_info": {
      "name": "python"
    },
    "widgets": {
      "application/vnd.jupyter.widget-state+json": {
        "2fcd58818802477baae0f8a26fdb3e8d": {
          "model_module": "@jupyter-widgets/controls",
          "model_name": "HBoxModel",
          "model_module_version": "2.0.0",
          "state": {
            "_dom_classes": [],
            "_model_module": "@jupyter-widgets/controls",
            "_model_module_version": "2.0.0",
            "_model_name": "HBoxModel",
            "_view_count": null,
            "_view_module": "@jupyter-widgets/controls",
            "_view_module_version": "2.0.0",
            "_view_name": "HBoxView",
            "box_style": "",
            "children": [
              "IPY_MODEL_c556adece19f4452b5b2b9ad839d8cd0",
              "IPY_MODEL_c8e15fffe20a4cf09c1ece33b288f787",
              "IPY_MODEL_43c3738d03b249b6bedca987aad3c08c"
            ],
            "layout": "IPY_MODEL_a7d1b28140b24e929b188eb3f24d21b8",
            "tabbable": null,
            "tooltip": null
          }
        },
        "c556adece19f4452b5b2b9ad839d8cd0": {
          "model_module": "@jupyter-widgets/controls",
          "model_name": "HTMLModel",
          "model_module_version": "2.0.0",
          "state": {
            "_dom_classes": [],
            "_model_module": "@jupyter-widgets/controls",
            "_model_module_version": "2.0.0",
            "_model_name": "HTMLModel",
            "_view_count": null,
            "_view_module": "@jupyter-widgets/controls",
            "_view_module_version": "2.0.0",
            "_view_name": "HTMLView",
            "description": "",
            "description_allow_html": false,
            "layout": "IPY_MODEL_c6f95805a66542f2a413563a4e47f4e2",
            "placeholder": "​",
            "style": "IPY_MODEL_a2ca1150aac840509ea2ce261b1d4e23",
            "tabbable": null,
            "tooltip": null,
            "value": "Map: 100%"
          }
        },
        "c8e15fffe20a4cf09c1ece33b288f787": {
          "model_module": "@jupyter-widgets/controls",
          "model_name": "FloatProgressModel",
          "model_module_version": "2.0.0",
          "state": {
            "_dom_classes": [],
            "_model_module": "@jupyter-widgets/controls",
            "_model_module_version": "2.0.0",
            "_model_name": "FloatProgressModel",
            "_view_count": null,
            "_view_module": "@jupyter-widgets/controls",
            "_view_module_version": "2.0.0",
            "_view_name": "ProgressView",
            "bar_style": "success",
            "description": "",
            "description_allow_html": false,
            "layout": "IPY_MODEL_0c96051088404a7b842d7d725094b7c3",
            "max": 37,
            "min": 0,
            "orientation": "horizontal",
            "style": "IPY_MODEL_1e4cc7dbc99e4b4382dca8cf41637bb5",
            "tabbable": null,
            "tooltip": null,
            "value": 37
          }
        },
        "43c3738d03b249b6bedca987aad3c08c": {
          "model_module": "@jupyter-widgets/controls",
          "model_name": "HTMLModel",
          "model_module_version": "2.0.0",
          "state": {
            "_dom_classes": [],
            "_model_module": "@jupyter-widgets/controls",
            "_model_module_version": "2.0.0",
            "_model_name": "HTMLModel",
            "_view_count": null,
            "_view_module": "@jupyter-widgets/controls",
            "_view_module_version": "2.0.0",
            "_view_name": "HTMLView",
            "description": "",
            "description_allow_html": false,
            "layout": "IPY_MODEL_3bf45facaad74691a96747f3539f80c5",
            "placeholder": "​",
            "style": "IPY_MODEL_cfdc519b3f5c44108c69087c3cd0ebe4",
            "tabbable": null,
            "tooltip": null,
            "value": " 37/37 [00:00&lt;00:00, 1137.90 examples/s]"
          }
        },
        "a7d1b28140b24e929b188eb3f24d21b8": {
          "model_module": "@jupyter-widgets/base",
          "model_name": "LayoutModel",
          "model_module_version": "2.0.0",
          "state": {
            "_model_module": "@jupyter-widgets/base",
            "_model_module_version": "2.0.0",
            "_model_name": "LayoutModel",
            "_view_count": null,
            "_view_module": "@jupyter-widgets/base",
            "_view_module_version": "2.0.0",
            "_view_name": "LayoutView",
            "align_content": null,
            "align_items": null,
            "align_self": null,
            "border_bottom": null,
            "border_left": null,
            "border_right": null,
            "border_top": null,
            "bottom": null,
            "display": null,
            "flex": null,
            "flex_flow": null,
            "grid_area": null,
            "grid_auto_columns": null,
            "grid_auto_flow": null,
            "grid_auto_rows": null,
            "grid_column": null,
            "grid_gap": null,
            "grid_row": null,
            "grid_template_areas": null,
            "grid_template_columns": null,
            "grid_template_rows": null,
            "height": null,
            "justify_content": null,
            "justify_items": null,
            "left": null,
            "margin": null,
            "max_height": null,
            "max_width": null,
            "min_height": null,
            "min_width": null,
            "object_fit": null,
            "object_position": null,
            "order": null,
            "overflow": null,
            "padding": null,
            "right": null,
            "top": null,
            "visibility": null,
            "width": null
          }
        },
        "c6f95805a66542f2a413563a4e47f4e2": {
          "model_module": "@jupyter-widgets/base",
          "model_name": "LayoutModel",
          "model_module_version": "2.0.0",
          "state": {
            "_model_module": "@jupyter-widgets/base",
            "_model_module_version": "2.0.0",
            "_model_name": "LayoutModel",
            "_view_count": null,
            "_view_module": "@jupyter-widgets/base",
            "_view_module_version": "2.0.0",
            "_view_name": "LayoutView",
            "align_content": null,
            "align_items": null,
            "align_self": null,
            "border_bottom": null,
            "border_left": null,
            "border_right": null,
            "border_top": null,
            "bottom": null,
            "display": null,
            "flex": null,
            "flex_flow": null,
            "grid_area": null,
            "grid_auto_columns": null,
            "grid_auto_flow": null,
            "grid_auto_rows": null,
            "grid_column": null,
            "grid_gap": null,
            "grid_row": null,
            "grid_template_areas": null,
            "grid_template_columns": null,
            "grid_template_rows": null,
            "height": null,
            "justify_content": null,
            "justify_items": null,
            "left": null,
            "margin": null,
            "max_height": null,
            "max_width": null,
            "min_height": null,
            "min_width": null,
            "object_fit": null,
            "object_position": null,
            "order": null,
            "overflow": null,
            "padding": null,
            "right": null,
            "top": null,
            "visibility": null,
            "width": null
          }
        },
        "a2ca1150aac840509ea2ce261b1d4e23": {
          "model_module": "@jupyter-widgets/controls",
          "model_name": "HTMLStyleModel",
          "model_module_version": "2.0.0",
          "state": {
            "_model_module": "@jupyter-widgets/controls",
            "_model_module_version": "2.0.0",
            "_model_name": "HTMLStyleModel",
            "_view_count": null,
            "_view_module": "@jupyter-widgets/base",
            "_view_module_version": "2.0.0",
            "_view_name": "StyleView",
            "background": null,
            "description_width": "",
            "font_size": null,
            "text_color": null
          }
        },
        "0c96051088404a7b842d7d725094b7c3": {
          "model_module": "@jupyter-widgets/base",
          "model_name": "LayoutModel",
          "model_module_version": "2.0.0",
          "state": {
            "_model_module": "@jupyter-widgets/base",
            "_model_module_version": "2.0.0",
            "_model_name": "LayoutModel",
            "_view_count": null,
            "_view_module": "@jupyter-widgets/base",
            "_view_module_version": "2.0.0",
            "_view_name": "LayoutView",
            "align_content": null,
            "align_items": null,
            "align_self": null,
            "border_bottom": null,
            "border_left": null,
            "border_right": null,
            "border_top": null,
            "bottom": null,
            "display": null,
            "flex": null,
            "flex_flow": null,
            "grid_area": null,
            "grid_auto_columns": null,
            "grid_auto_flow": null,
            "grid_auto_rows": null,
            "grid_column": null,
            "grid_gap": null,
            "grid_row": null,
            "grid_template_areas": null,
            "grid_template_columns": null,
            "grid_template_rows": null,
            "height": null,
            "justify_content": null,
            "justify_items": null,
            "left": null,
            "margin": null,
            "max_height": null,
            "max_width": null,
            "min_height": null,
            "min_width": null,
            "object_fit": null,
            "object_position": null,
            "order": null,
            "overflow": null,
            "padding": null,
            "right": null,
            "top": null,
            "visibility": null,
            "width": null
          }
        },
        "1e4cc7dbc99e4b4382dca8cf41637bb5": {
          "model_module": "@jupyter-widgets/controls",
          "model_name": "ProgressStyleModel",
          "model_module_version": "2.0.0",
          "state": {
            "_model_module": "@jupyter-widgets/controls",
            "_model_module_version": "2.0.0",
            "_model_name": "ProgressStyleModel",
            "_view_count": null,
            "_view_module": "@jupyter-widgets/base",
            "_view_module_version": "2.0.0",
            "_view_name": "StyleView",
            "bar_color": null,
            "description_width": ""
          }
        },
        "3bf45facaad74691a96747f3539f80c5": {
          "model_module": "@jupyter-widgets/base",
          "model_name": "LayoutModel",
          "model_module_version": "2.0.0",
          "state": {
            "_model_module": "@jupyter-widgets/base",
            "_model_module_version": "2.0.0",
            "_model_name": "LayoutModel",
            "_view_count": null,
            "_view_module": "@jupyter-widgets/base",
            "_view_module_version": "2.0.0",
            "_view_name": "LayoutView",
            "align_content": null,
            "align_items": null,
            "align_self": null,
            "border_bottom": null,
            "border_left": null,
            "border_right": null,
            "border_top": null,
            "bottom": null,
            "display": null,
            "flex": null,
            "flex_flow": null,
            "grid_area": null,
            "grid_auto_columns": null,
            "grid_auto_flow": null,
            "grid_auto_rows": null,
            "grid_column": null,
            "grid_gap": null,
            "grid_row": null,
            "grid_template_areas": null,
            "grid_template_columns": null,
            "grid_template_rows": null,
            "height": null,
            "justify_content": null,
            "justify_items": null,
            "left": null,
            "margin": null,
            "max_height": null,
            "max_width": null,
            "min_height": null,
            "min_width": null,
            "object_fit": null,
            "object_position": null,
            "order": null,
            "overflow": null,
            "padding": null,
            "right": null,
            "top": null,
            "visibility": null,
            "width": null
          }
        },
        "cfdc519b3f5c44108c69087c3cd0ebe4": {
          "model_module": "@jupyter-widgets/controls",
          "model_name": "HTMLStyleModel",
          "model_module_version": "2.0.0",
          "state": {
            "_model_module": "@jupyter-widgets/controls",
            "_model_module_version": "2.0.0",
            "_model_name": "HTMLStyleModel",
            "_view_count": null,
            "_view_module": "@jupyter-widgets/base",
            "_view_module_version": "2.0.0",
            "_view_name": "StyleView",
            "background": null,
            "description_width": "",
            "font_size": null,
            "text_color": null
          }
        },
        "5cdd2ef3bf0a4d568cf88d8d717b3a94": {
          "model_module": "@jupyter-widgets/controls",
          "model_name": "HBoxModel",
          "model_module_version": "2.0.0",
          "state": {
            "_dom_classes": [],
            "_model_module": "@jupyter-widgets/controls",
            "_model_module_version": "2.0.0",
            "_model_name": "HBoxModel",
            "_view_count": null,
            "_view_module": "@jupyter-widgets/controls",
            "_view_module_version": "2.0.0",
            "_view_name": "HBoxView",
            "box_style": "",
            "children": [
              "IPY_MODEL_e1b92ad679d24898a716564cacef4059",
              "IPY_MODEL_a49f2327e2524835b323a3f27552894f",
              "IPY_MODEL_85cb9f19eb694f2c9f71ea89b10e9b9b"
            ],
            "layout": "IPY_MODEL_300a05a1db714e04a8fe555b96fdf34b",
            "tabbable": null,
            "tooltip": null
          }
        },
        "e1b92ad679d24898a716564cacef4059": {
          "model_module": "@jupyter-widgets/controls",
          "model_name": "HTMLModel",
          "model_module_version": "2.0.0",
          "state": {
            "_dom_classes": [],
            "_model_module": "@jupyter-widgets/controls",
            "_model_module_version": "2.0.0",
            "_model_name": "HTMLModel",
            "_view_count": null,
            "_view_module": "@jupyter-widgets/controls",
            "_view_module_version": "2.0.0",
            "_view_name": "HTMLView",
            "description": "",
            "description_allow_html": false,
            "layout": "IPY_MODEL_49bc9bc292ac4a0096c54142bf7a5a49",
            "placeholder": "​",
            "style": "IPY_MODEL_948a074fe93e481694fdd3b322ada4b6",
            "tabbable": null,
            "tooltip": null,
            "value": "Map (num_proc=2): 100%"
          }
        },
        "a49f2327e2524835b323a3f27552894f": {
          "model_module": "@jupyter-widgets/controls",
          "model_name": "FloatProgressModel",
          "model_module_version": "2.0.0",
          "state": {
            "_dom_classes": [],
            "_model_module": "@jupyter-widgets/controls",
            "_model_module_version": "2.0.0",
            "_model_name": "FloatProgressModel",
            "_view_count": null,
            "_view_module": "@jupyter-widgets/controls",
            "_view_module_version": "2.0.0",
            "_view_name": "ProgressView",
            "bar_style": "success",
            "description": "",
            "description_allow_html": false,
            "layout": "IPY_MODEL_efec78b082db4a6fb948456001e76c87",
            "max": 37,
            "min": 0,
            "orientation": "horizontal",
            "style": "IPY_MODEL_ab83867b8d3244ca97f2d72cb256aa3a",
            "tabbable": null,
            "tooltip": null,
            "value": 37
          }
        },
        "85cb9f19eb694f2c9f71ea89b10e9b9b": {
          "model_module": "@jupyter-widgets/controls",
          "model_name": "HTMLModel",
          "model_module_version": "2.0.0",
          "state": {
            "_dom_classes": [],
            "_model_module": "@jupyter-widgets/controls",
            "_model_module_version": "2.0.0",
            "_model_name": "HTMLModel",
            "_view_count": null,
            "_view_module": "@jupyter-widgets/controls",
            "_view_module_version": "2.0.0",
            "_view_name": "HTMLView",
            "description": "",
            "description_allow_html": false,
            "layout": "IPY_MODEL_126ce0e2c7d04fc8b688aeacf8e2f97f",
            "placeholder": "​",
            "style": "IPY_MODEL_741866b9bb2d4f259057a6b0801179fc",
            "tabbable": null,
            "tooltip": null,
            "value": " 37/37 [00:01&lt;00:00, 39.67 examples/s]"
          }
        },
        "300a05a1db714e04a8fe555b96fdf34b": {
          "model_module": "@jupyter-widgets/base",
          "model_name": "LayoutModel",
          "model_module_version": "2.0.0",
          "state": {
            "_model_module": "@jupyter-widgets/base",
            "_model_module_version": "2.0.0",
            "_model_name": "LayoutModel",
            "_view_count": null,
            "_view_module": "@jupyter-widgets/base",
            "_view_module_version": "2.0.0",
            "_view_name": "LayoutView",
            "align_content": null,
            "align_items": null,
            "align_self": null,
            "border_bottom": null,
            "border_left": null,
            "border_right": null,
            "border_top": null,
            "bottom": null,
            "display": null,
            "flex": null,
            "flex_flow": null,
            "grid_area": null,
            "grid_auto_columns": null,
            "grid_auto_flow": null,
            "grid_auto_rows": null,
            "grid_column": null,
            "grid_gap": null,
            "grid_row": null,
            "grid_template_areas": null,
            "grid_template_columns": null,
            "grid_template_rows": null,
            "height": null,
            "justify_content": null,
            "justify_items": null,
            "left": null,
            "margin": null,
            "max_height": null,
            "max_width": null,
            "min_height": null,
            "min_width": null,
            "object_fit": null,
            "object_position": null,
            "order": null,
            "overflow": null,
            "padding": null,
            "right": null,
            "top": null,
            "visibility": null,
            "width": null
          }
        },
        "49bc9bc292ac4a0096c54142bf7a5a49": {
          "model_module": "@jupyter-widgets/base",
          "model_name": "LayoutModel",
          "model_module_version": "2.0.0",
          "state": {
            "_model_module": "@jupyter-widgets/base",
            "_model_module_version": "2.0.0",
            "_model_name": "LayoutModel",
            "_view_count": null,
            "_view_module": "@jupyter-widgets/base",
            "_view_module_version": "2.0.0",
            "_view_name": "LayoutView",
            "align_content": null,
            "align_items": null,
            "align_self": null,
            "border_bottom": null,
            "border_left": null,
            "border_right": null,
            "border_top": null,
            "bottom": null,
            "display": null,
            "flex": null,
            "flex_flow": null,
            "grid_area": null,
            "grid_auto_columns": null,
            "grid_auto_flow": null,
            "grid_auto_rows": null,
            "grid_column": null,
            "grid_gap": null,
            "grid_row": null,
            "grid_template_areas": null,
            "grid_template_columns": null,
            "grid_template_rows": null,
            "height": null,
            "justify_content": null,
            "justify_items": null,
            "left": null,
            "margin": null,
            "max_height": null,
            "max_width": null,
            "min_height": null,
            "min_width": null,
            "object_fit": null,
            "object_position": null,
            "order": null,
            "overflow": null,
            "padding": null,
            "right": null,
            "top": null,
            "visibility": null,
            "width": null
          }
        },
        "948a074fe93e481694fdd3b322ada4b6": {
          "model_module": "@jupyter-widgets/controls",
          "model_name": "HTMLStyleModel",
          "model_module_version": "2.0.0",
          "state": {
            "_model_module": "@jupyter-widgets/controls",
            "_model_module_version": "2.0.0",
            "_model_name": "HTMLStyleModel",
            "_view_count": null,
            "_view_module": "@jupyter-widgets/base",
            "_view_module_version": "2.0.0",
            "_view_name": "StyleView",
            "background": null,
            "description_width": "",
            "font_size": null,
            "text_color": null
          }
        },
        "efec78b082db4a6fb948456001e76c87": {
          "model_module": "@jupyter-widgets/base",
          "model_name": "LayoutModel",
          "model_module_version": "2.0.0",
          "state": {
            "_model_module": "@jupyter-widgets/base",
            "_model_module_version": "2.0.0",
            "_model_name": "LayoutModel",
            "_view_count": null,
            "_view_module": "@jupyter-widgets/base",
            "_view_module_version": "2.0.0",
            "_view_name": "LayoutView",
            "align_content": null,
            "align_items": null,
            "align_self": null,
            "border_bottom": null,
            "border_left": null,
            "border_right": null,
            "border_top": null,
            "bottom": null,
            "display": null,
            "flex": null,
            "flex_flow": null,
            "grid_area": null,
            "grid_auto_columns": null,
            "grid_auto_flow": null,
            "grid_auto_rows": null,
            "grid_column": null,
            "grid_gap": null,
            "grid_row": null,
            "grid_template_areas": null,
            "grid_template_columns": null,
            "grid_template_rows": null,
            "height": null,
            "justify_content": null,
            "justify_items": null,
            "left": null,
            "margin": null,
            "max_height": null,
            "max_width": null,
            "min_height": null,
            "min_width": null,
            "object_fit": null,
            "object_position": null,
            "order": null,
            "overflow": null,
            "padding": null,
            "right": null,
            "top": null,
            "visibility": null,
            "width": null
          }
        },
        "ab83867b8d3244ca97f2d72cb256aa3a": {
          "model_module": "@jupyter-widgets/controls",
          "model_name": "ProgressStyleModel",
          "model_module_version": "2.0.0",
          "state": {
            "_model_module": "@jupyter-widgets/controls",
            "_model_module_version": "2.0.0",
            "_model_name": "ProgressStyleModel",
            "_view_count": null,
            "_view_module": "@jupyter-widgets/base",
            "_view_module_version": "2.0.0",
            "_view_name": "StyleView",
            "bar_color": null,
            "description_width": ""
          }
        },
        "126ce0e2c7d04fc8b688aeacf8e2f97f": {
          "model_module": "@jupyter-widgets/base",
          "model_name": "LayoutModel",
          "model_module_version": "2.0.0",
          "state": {
            "_model_module": "@jupyter-widgets/base",
            "_model_module_version": "2.0.0",
            "_model_name": "LayoutModel",
            "_view_count": null,
            "_view_module": "@jupyter-widgets/base",
            "_view_module_version": "2.0.0",
            "_view_name": "LayoutView",
            "align_content": null,
            "align_items": null,
            "align_self": null,
            "border_bottom": null,
            "border_left": null,
            "border_right": null,
            "border_top": null,
            "bottom": null,
            "display": null,
            "flex": null,
            "flex_flow": null,
            "grid_area": null,
            "grid_auto_columns": null,
            "grid_auto_flow": null,
            "grid_auto_rows": null,
            "grid_column": null,
            "grid_gap": null,
            "grid_row": null,
            "grid_template_areas": null,
            "grid_template_columns": null,
            "grid_template_rows": null,
            "height": null,
            "justify_content": null,
            "justify_items": null,
            "left": null,
            "margin": null,
            "max_height": null,
            "max_width": null,
            "min_height": null,
            "min_width": null,
            "object_fit": null,
            "object_position": null,
            "order": null,
            "overflow": null,
            "padding": null,
            "right": null,
            "top": null,
            "visibility": null,
            "width": null
          }
        },
        "741866b9bb2d4f259057a6b0801179fc": {
          "model_module": "@jupyter-widgets/controls",
          "model_name": "HTMLStyleModel",
          "model_module_version": "2.0.0",
          "state": {
            "_model_module": "@jupyter-widgets/controls",
            "_model_module_version": "2.0.0",
            "_model_name": "HTMLStyleModel",
            "_view_count": null,
            "_view_module": "@jupyter-widgets/base",
            "_view_module_version": "2.0.0",
            "_view_name": "StyleView",
            "background": null,
            "description_width": "",
            "font_size": null,
            "text_color": null
          }
        }
      }
    }
  },
  "cells": [
    {
      "cell_type": "markdown",
      "metadata": {
        "id": "view-in-github",
        "colab_type": "text"
      },
      "source": [
        "<a href=\"https://colab.research.google.com/github/w-dan/MATM/blob/main/MATM-code/data-analysis/fine_tuning.ipynb\" target=\"_parent\"><img src=\"https://colab.research.google.com/assets/colab-badge.svg\" alt=\"Open In Colab\"/></a>"
      ]
    },
    {
      "cell_type": "markdown",
      "source": [
        "# Initial setup\n",
        "\n",
        "This section includes installing required libraries and loading environment variables, also making sure GPUs are visible."
      ],
      "metadata": {
        "id": "kSmbODrsciIu"
      }
    },
    {
      "cell_type": "markdown",
      "source": [
        "### Libraries"
      ],
      "metadata": {
        "id": "OKGYv7tWgIE7"
      }
    },
    {
      "cell_type": "code",
      "source": [
        "# special installation\n",
        "# !pip install \"unsloth[colab-new] @ git+https://github.com/unslothai/unsloth.git\" --quiet"
      ],
      "metadata": {
        "id": "SaAdEIHUeeu2"
      },
      "execution_count": 1,
      "outputs": []
    },
    {
      "cell_type": "code",
      "source": [
        "import importlib.util\n",
        "\n",
        "def install_if_not_exists(package_name, no_deps=False):\n",
        "    spec = importlib.util.find_spec(package_name)\n",
        "    if spec is None:\n",
        "        print(f\"[+] Installing {package_name}...\")\n",
        "        if no_deps is False:\n",
        "          !pip install {package_name} --quiet\n",
        "        else:\n",
        "          !pip install --no-deps {package_name} --quiet\n",
        "    else:\n",
        "        print(f\"[-] {package_name} is already installed.\")"
      ],
      "metadata": {
        "id": "sASN5d5SctDv"
      },
      "execution_count": 2,
      "outputs": []
    },
    {
      "cell_type": "code",
      "source": [
        "# training\n",
        "install_if_not_exists(\"xformers\", no_deps=True)\n",
        "install_if_not_exists(\"trl\", no_deps=True)\n",
        "install_if_not_exists(\"peft\", no_deps=True)\n",
        "install_if_not_exists(\"accelerate\", no_deps=True)\n",
        "install_if_not_exists(\"bitsandbytes\", no_deps=True)\n",
        "\n",
        "# dataset\n",
        "install_if_not_exists(\"pymongo\", no_deps=True)"
      ],
      "metadata": {
        "colab": {
          "base_uri": "https://localhost:8080/"
        },
        "id": "EnU8SUCWd3On",
        "outputId": "632a60b1-216f-45e0-ce99-fb6339dfae36"
      },
      "execution_count": 3,
      "outputs": [
        {
          "output_type": "stream",
          "name": "stdout",
          "text": [
            "[-] xformers is already installed.\n",
            "[-] trl is already installed.\n",
            "[-] peft is already installed.\n",
            "[-] accelerate is already installed.\n",
            "[-] bitsandbytes is already installed.\n",
            "[-] pymongo is already installed.\n"
          ]
        }
      ]
    },
    {
      "cell_type": "code",
      "source": [
        "# core\n",
        "import os, logging, time, torch\n",
        "from dotenv import load_dotenv\n",
        "\n",
        "# dataset\n",
        "from datasets import Dataset\n",
        "from pymongo import MongoClient\n",
        "import pandas as pd\n",
        "\n",
        "# trl\n",
        "from trl import SFTTrainer\n",
        "\n",
        "# models and training\n",
        "from transformers import TrainingArguments\n",
        "from unsloth import FastLanguageModel\n",
        "from unsloth import is_bfloat16_supported"
      ],
      "metadata": {
        "id": "fxRS65WDftZn",
        "colab": {
          "base_uri": "https://localhost:8080/"
        },
        "outputId": "57043a5c-22b0-4cfa-b0b4-e57b26ec453c"
      },
      "execution_count": 4,
      "outputs": [
        {
          "output_type": "stream",
          "name": "stdout",
          "text": [
            "🦥 Unsloth: Will patch your computer to enable 2x faster free finetuning.\n"
          ]
        }
      ]
    },
    {
      "cell_type": "markdown",
      "source": [
        "### Environment variables and constants"
      ],
      "metadata": {
        "id": "hMfySA9OgJNz"
      }
    },
    {
      "cell_type": "code",
      "source": [
        "load_dotenv(\".env\")\n",
        "CONNECTION_STRING = os.getenv(\"CONNECTION_STRING\")\n",
        "TOKEN = os.getenv(\"HUGGINGFACE_TOKEN\")\n",
        "os.environ[\"TOKENIZERS_PARALLELISM\"] = \"true\""
      ],
      "metadata": {
        "id": "ai3HAyZ7gBT0"
      },
      "execution_count": 5,
      "outputs": []
    },
    {
      "cell_type": "code",
      "source": [
        "DATABASE_NAME = \"APTs\""
      ],
      "metadata": {
        "id": "JZTVxYmdhDUS"
      },
      "execution_count": 6,
      "outputs": []
    },
    {
      "cell_type": "markdown",
      "source": [
        "GPU check (Docker container will sometimes lose GPU visibility)"
      ],
      "metadata": {
        "id": "wb7EyBzdfloe"
      }
    },
    {
      "cell_type": "code",
      "source": [
        "!nvidia-smi"
      ],
      "metadata": {
        "colab": {
          "base_uri": "https://localhost:8080/"
        },
        "id": "sjk4xtL3cLwR",
        "outputId": "bce4a7dc-2951-47c8-97d9-095d3bd3baf0"
      },
      "execution_count": 7,
      "outputs": [
        {
          "output_type": "stream",
          "name": "stdout",
          "text": [
            "Thu Jun  6 08:41:52 2024       \r\n",
            "+---------------------------------------------------------------------------------------+\r\n",
            "| NVIDIA-SMI 535.171.04             Driver Version: 535.171.04   CUDA Version: 12.2     |\r\n",
            "|-----------------------------------------+----------------------+----------------------+\r\n",
            "| GPU  Name                 Persistence-M | Bus-Id        Disp.A | Volatile Uncorr. ECC |\r\n",
            "| Fan  Temp   Perf          Pwr:Usage/Cap |         Memory-Usage | GPU-Util  Compute M. |\r\n",
            "|                                         |                      |               MIG M. |\r\n",
            "|=========================================+======================+======================|\n",
            "|   0  NVIDIA TITAN V                 Off | 00000000:5E:00.0 Off |                  N/A |\n",
            "| 34%   47C    P8              27W / 250W |      4MiB / 12288MiB |      0%      Default |\n",
            "|                                         |                      |                  N/A |\n",
            "+-----------------------------------------+----------------------+----------------------+\n",
            "|   1  NVIDIA TITAN V                 Off | 00000000:AF:00.0 Off |                  N/A |\n",
            "| 34%   49C    P8              30W / 250W |      0MiB / 12288MiB |      0%      Default |\n",
            "|                                         |                      |                  N/A |\n",
            "+-----------------------------------------+----------------------+----------------------+\n",
            "                                                                                         \n",
            "+---------------------------------------------------------------------------------------+\n",
            "| Processes:                                                                            |\n",
            "|  GPU   GI   CI        PID   Type   Process name                            GPU Memory |\n",
            "|        ID   ID                                                             Usage      |\n",
            "|=======================================================================================|\n",
            "|  No running processes found                                                           |\n",
            "+---------------------------------------------------------------------------------------+\n"
          ]
        }
      ]
    },
    {
      "cell_type": "markdown",
      "source": [
        "# Dataset loading\n",
        "\n",
        "\n",
        "Initially, we will be building a dataset with raw text and tools. The dataset is stored in a MongoDB database, so we will have to fetch the data:"
      ],
      "metadata": {
        "id": "IYWol7WeZUbM"
      }
    },
    {
      "cell_type": "code",
      "source": [
        "collection_name = \"dataset\""
      ],
      "metadata": {
        "id": "f5TPnsXWhATO"
      },
      "execution_count": 8,
      "outputs": []
    },
    {
      "cell_type": "code",
      "source": [
        "client = MongoClient(CONNECTION_STRING)\n",
        "db = client[DATABASE_NAME]\n",
        "\n",
        "collection = db[collection_name]"
      ],
      "metadata": {
        "id": "RZVvRiXDfq46"
      },
      "execution_count": 9,
      "outputs": []
    },
    {
      "cell_type": "code",
      "source": [
        "documents = collection.find()\n",
        "\n",
        "data = []\n",
        "for doc in documents:\n",
        "    corpus = doc.get(\"corpus\", \"\")\n",
        "    killchain_phase = doc.get(\"killchain_phase\", \"\")\n",
        "    apt_group = doc.get(\"apt_group\", \"\")\n",
        "    tactics = doc.get(\"tactics\", [])\n",
        "\n",
        "    data.append({\n",
        "        \"corpus\": corpus,\n",
        "        \"killchain_phase\": killchain_phase,\n",
        "        \"apt_group\": apt_group,\n",
        "        \"tactics\": tactics\n",
        "    })\n",
        "\n",
        "df = pd.DataFrame(data)\n",
        "df.drop(['killchain_phase', 'apt_group'], axis=1, inplace=True)\n",
        "\n",
        "print(f\"[+] Shape: {df.shape}\")\n",
        "df.head()"
      ],
      "metadata": {
        "id": "0OJskIP2fquH",
        "colab": {
          "base_uri": "https://localhost:8080/",
          "height": 225
        },
        "outputId": "0b799a2c-1533-4946-f8ff-c294110e1a06"
      },
      "execution_count": 10,
      "outputs": [
        {
          "output_type": "stream",
          "name": "stdout",
          "text": [
            "[+] Shape: (37, 2)\n"
          ]
        },
        {
          "output_type": "execute_result",
          "data": {
            "text/plain": [
              "                                              corpus  \\\n",
              "0  decoding network data gh0st rat variant nccgro...   \n",
              "1  5www .prevailion.com /what-wicked-webs-we-unwe...   \n",
              "2  7www .mandiant.com /resources/blog/lightshift-...   \n",
              "3  2015/11/24 russian financial cybercrime works ...   \n",
              "4  9/28/21 4:23 pm foggyw eb argeted nobelium mal...   \n",
              "\n",
              "                                             tactics  \n",
              "0  [Execution, Persistence, Credential Access, Co...  \n",
              "1  [Credential Access, Defense Evasion, Exploitat...  \n",
              "2  [Defense Evasion, Privilege Escalation, Execut...  \n",
              "3     [Credential Access, Exfiltration, Persistence]  \n",
              "4  [Persistence, Credential Access, Command and C...  "
            ],
            "text/html": [
              "<div>\n",
              "<style scoped>\n",
              "    .dataframe tbody tr th:only-of-type {\n",
              "        vertical-align: middle;\n",
              "    }\n",
              "\n",
              "    .dataframe tbody tr th {\n",
              "        vertical-align: top;\n",
              "    }\n",
              "\n",
              "    .dataframe thead th {\n",
              "        text-align: right;\n",
              "    }\n",
              "</style>\n",
              "<table border=\"1\" class=\"dataframe\">\n",
              "  <thead>\n",
              "    <tr style=\"text-align: right;\">\n",
              "      <th></th>\n",
              "      <th>corpus</th>\n",
              "      <th>tactics</th>\n",
              "    </tr>\n",
              "  </thead>\n",
              "  <tbody>\n",
              "    <tr>\n",
              "      <th>0</th>\n",
              "      <td>decoding network data gh0st rat variant nccgro...</td>\n",
              "      <td>[Execution, Persistence, Credential Access, Co...</td>\n",
              "    </tr>\n",
              "    <tr>\n",
              "      <th>1</th>\n",
              "      <td>5www .prevailion.com /what-wicked-webs-we-unwe...</td>\n",
              "      <td>[Credential Access, Defense Evasion, Exploitat...</td>\n",
              "    </tr>\n",
              "    <tr>\n",
              "      <th>2</th>\n",
              "      <td>7www .mandiant.com /resources/blog/lightshift-...</td>\n",
              "      <td>[Defense Evasion, Privilege Escalation, Execut...</td>\n",
              "    </tr>\n",
              "    <tr>\n",
              "      <th>3</th>\n",
              "      <td>2015/11/24 russian financial cybercrime works ...</td>\n",
              "      <td>[Credential Access, Exfiltration, Persistence]</td>\n",
              "    </tr>\n",
              "    <tr>\n",
              "      <th>4</th>\n",
              "      <td>9/28/21 4:23 pm foggyw eb argeted nobelium mal...</td>\n",
              "      <td>[Persistence, Credential Access, Command and C...</td>\n",
              "    </tr>\n",
              "  </tbody>\n",
              "</table>\n",
              "</div>"
            ]
          },
          "metadata": {},
          "execution_count": 10
        }
      ]
    },
    {
      "cell_type": "code",
      "source": [
        "dataset = Dataset.from_pandas(df)\n",
        "type(dataset)"
      ],
      "metadata": {
        "colab": {
          "base_uri": "https://localhost:8080/"
        },
        "id": "VCYUKjsqDlow",
        "outputId": "1769f977-2037-4329-9560-b92899699137"
      },
      "execution_count": 12,
      "outputs": [
        {
          "output_type": "execute_result",
          "data": {
            "text/plain": [
              "datasets.arrow_dataset.Dataset"
            ]
          },
          "metadata": {},
          "execution_count": 12
        }
      ]
    },
    {
      "cell_type": "markdown",
      "source": [
        "# Preparing model"
      ],
      "metadata": {
        "id": "lMLJ4La8ZQjR"
      }
    },
    {
      "cell_type": "code",
      "source": [
        "max_seq_length = 2048 # unsloth supports RoPE Scaling internally\n",
        "dtype = None # None for auto detection\n",
        "load_in_4bit = True # 4bit quantization to reduce memory usage. Affects accuracy\n",
        "\n",
        "# 4bit pre quantized models from unsloth\n",
        "fourbit_models = [\n",
        "    \"unsloth/mistral-7b-v0.3-bnb-4bit\",      # New Mistral v3 2x faster!\n",
        "    \"unsloth/mistral-7b-instruct-v0.3-bnb-4bit\",\n",
        "    \"unsloth/llama-3-8b-bnb-4bit\",           # Llama-3 15 trillion tokens model 2x faster!\n",
        "    \"unsloth/llama-3-8b-Instruct-bnb-4bit\",\n",
        "    \"unsloth/llama-3-70b-bnb-4bit\",\n",
        "    \"unsloth/Phi-3-mini-4k-instruct\",        # Phi-3 2x faster!\n",
        "    \"unsloth/Phi-3-medium-4k-instruct\",\n",
        "    \"unsloth/mistral-7b-bnb-4bit\",\n",
        "    \"unsloth/gemma-7b-bnb-4bit\",             # Gemma 2.2x faster!\n",
        "] # More models at https://huggingface.co/unsloth\n",
        "\n",
        "model, tokenizer = FastLanguageModel.from_pretrained(\n",
        "    model_name = \"unsloth/llama-3-8b-bnb-4bit\",\n",
        "    max_seq_length = max_seq_length,\n",
        "    dtype = dtype,\n",
        "    load_in_4bit = load_in_4bit,\n",
        "    # token = \"hf_...\", # use one if using gated models like meta-llama/Llama-2-7b-hf\n",
        ")"
      ],
      "metadata": {
        "colab": {
          "base_uri": "https://localhost:8080/"
        },
        "id": "-j8efOPCFvU-",
        "outputId": "fae88c63-767b-4e21-cf9f-608192149ca4"
      },
      "execution_count": 13,
      "outputs": [
        {
          "output_type": "stream",
          "name": "stdout",
          "text": [
            "==((====))==  Unsloth: Fast Llama patching release 2024.5\n",
            "   \\\\   /|    GPU: NVIDIA TITAN V. Max memory: 11.774 GB. Platform = Linux.\n",
            "O^O/ \\_/ \\    Pytorch: 2.3.0+cu121. CUDA = 7.0. CUDA Toolkit = 12.1.\n",
            "\\        /    Bfloat16 = FALSE. Xformers = 0.0.26.post1. FA = False.\n",
            " \"-____-\"     Free Apache license: http://github.com/unslothai/unsloth\n"
          ]
        },
        {
          "output_type": "stream",
          "name": "stderr",
          "text": [
            "Special tokens have been added in the vocabulary, make sure the associated word embeddings are fine-tuned or trained.\n"
          ]
        }
      ]
    },
    {
      "cell_type": "markdown",
      "source": [
        "Adding LoRA adapters only 1 to 10% of all parameters will need to be updated."
      ],
      "metadata": {
        "id": "j-_79FDeGD9x"
      }
    },
    {
      "cell_type": "code",
      "source": [
        "model = FastLanguageModel.get_peft_model(\n",
        "    model,\n",
        "    r = 16, # any number > 0 (Suggested 8, 16, 32, 64, 128)\n",
        "    target_modules = [\"q_proj\", \"k_proj\", \"v_proj\", \"o_proj\",\n",
        "                      \"gate_proj\", \"up_proj\", \"down_proj\",],\n",
        "    lora_alpha = 16,\n",
        "    lora_dropout = 0, # supports any, but = 0 is optimized\n",
        "    bias = \"none\",    # supports any, but = \"none\" is optimized\n",
        "\n",
        "    use_gradient_checkpointing = \"unsloth\", # true or \"unsloth\" for very long context\n",
        "    random_state = 3407,\n",
        "    use_rslora = False,  # rank stabilized LoRA\n",
        "    loftq_config = None, # LoftQ\n",
        ")"
      ],
      "metadata": {
        "colab": {
          "base_uri": "https://localhost:8080/"
        },
        "id": "ZGh_xAr6GIVf",
        "outputId": "bcebb2a7-5fa6-4c21-a9da-0c2f2a35deaf"
      },
      "execution_count": 14,
      "outputs": [
        {
          "output_type": "stream",
          "name": "stderr",
          "text": [
            "Unsloth 2024.5 patched 32 layers with 32 QKV layers, 32 O layers and 32 MLP layers.\n"
          ]
        }
      ]
    },
    {
      "cell_type": "markdown",
      "source": [
        "# Preparing data"
      ],
      "metadata": {
        "id": "bq_OfsEKH-pO"
      }
    },
    {
      "cell_type": "code",
      "execution_count": 15,
      "metadata": {
        "id": "2M4H-cApZPLE"
      },
      "outputs": [],
      "source": [
        "base_prompt = \"\"\"Extract tactics from the following text. Tactics represent the \"why\" of an attack technique or sub-technique. It is a tactical goal or reason for performing an action. Choose one or more from these options\n",
        "    Reconnaissance, Resource Development, Initial Access, Persistence, Execution, Privilege Escalation, Defense Evasion, Credential Access, Discovery, Lateral Movement, Collection, Command and Control, Exfiltration, Impact\n",
        "    Extract tactics from the following text.\n",
        "### Text:\n",
        "{}\n",
        "\n",
        "### Response:\n",
        "{}\"\"\""
      ]
    },
    {
      "cell_type": "markdown",
      "source": [
        "\n",
        "`EOS_TOKEN` must be added to the tokenized output, otherwise it will return infinite generators.\n",
        "\n",
        "If you want to use the `llama-3` template for ShareGPT datasets, try our conversational [notebook](https://colab.research.google.com/drive/1XamvWYinY6FOSX9GLvnqSjjsNflxdhNc?usp=sharing).\n",
        "\n",
        "For text completions like novel writing, try this [notebook](https://colab.research.google.com/drive/1ef-tab5bhkvWmBOObepl1WgJvfvSzn5Q?usp=sharing)."
      ],
      "metadata": {
        "id": "NDHqz0hCG3F1"
      }
    },
    {
      "cell_type": "code",
      "source": [
        "INSTRUCTION = \"Please extract the tactics from the given text.\""
      ],
      "metadata": {
        "id": "uqUb5WZIIqrH"
      },
      "execution_count": 16,
      "outputs": []
    },
    {
      "cell_type": "code",
      "source": [
        "EOS_TOKEN = tokenizer.eos_token # Must add EOS_TOKEN\n",
        "\n",
        "def formatting_prompts_func(examples):\n",
        "    # instructions = examples[\"instruction\"]\n",
        "    inputs       = examples[\"corpus\"]\n",
        "    outputs      = examples[\"tactics\"]\n",
        "    texts = []\n",
        "    for input, output in zip(inputs, outputs):\n",
        "        # Must add EOS_TOKEN, otherwise your generation will go on forever!\n",
        "        text = base_prompt.format(input, output) + EOS_TOKEN      # Instruction, Input, Output\n",
        "        texts.append(text)\n",
        "    return { \"text\" : texts, }\n",
        "pass"
      ],
      "metadata": {
        "id": "VW6bPnbpFu7x"
      },
      "execution_count": 17,
      "outputs": []
    },
    {
      "cell_type": "code",
      "source": [
        "dataset = dataset.map(formatting_prompts_func, batched = True,)"
      ],
      "metadata": {
        "colab": {
          "base_uri": "https://localhost:8080/",
          "height": 17,
          "referenced_widgets": [
            "2fcd58818802477baae0f8a26fdb3e8d",
            "c556adece19f4452b5b2b9ad839d8cd0",
            "c8e15fffe20a4cf09c1ece33b288f787",
            "43c3738d03b249b6bedca987aad3c08c",
            "a7d1b28140b24e929b188eb3f24d21b8",
            "c6f95805a66542f2a413563a4e47f4e2",
            "a2ca1150aac840509ea2ce261b1d4e23",
            "0c96051088404a7b842d7d725094b7c3",
            "1e4cc7dbc99e4b4382dca8cf41637bb5",
            "3bf45facaad74691a96747f3539f80c5",
            "cfdc519b3f5c44108c69087c3cd0ebe4"
          ]
        },
        "id": "qmecFBMwJKA2",
        "outputId": "16939bce-8438-4d6d-871b-0f4daf765213"
      },
      "execution_count": 18,
      "outputs": [
        {
          "output_type": "display_data",
          "data": {
            "text/plain": [
              "Map:   0%|          | 0/37 [00:00<?, ? examples/s]"
            ],
            "application/vnd.jupyter.widget-view+json": {
              "version_major": 2,
              "version_minor": 0,
              "model_id": "2fcd58818802477baae0f8a26fdb3e8d"
            }
          },
          "metadata": {}
        }
      ]
    },
    {
      "cell_type": "code",
      "source": [
        "dataset"
      ],
      "metadata": {
        "colab": {
          "base_uri": "https://localhost:8080/"
        },
        "id": "31wjyDFyJNdh",
        "outputId": "872a3330-3457-4c16-e083-71fcd7a02787"
      },
      "execution_count": 19,
      "outputs": [
        {
          "output_type": "execute_result",
          "data": {
            "text/plain": [
              "Dataset({\n",
              "    features: ['corpus', 'tactics', 'text'],\n",
              "    num_rows: 37\n",
              "})"
            ]
          },
          "metadata": {},
          "execution_count": 19
        }
      ]
    },
    {
      "cell_type": "markdown",
      "source": [
        "Define training parameters"
      ],
      "metadata": {
        "id": "RZO-5E8uJYij"
      }
    },
    {
      "cell_type": "code",
      "source": [
        "trainer = SFTTrainer(\n",
        "    model = model,\n",
        "    tokenizer = tokenizer,\n",
        "    train_dataset = dataset,\n",
        "    dataset_text_field = \"text\",\n",
        "    max_seq_length = max_seq_length,\n",
        "    dataset_num_proc = 2,\n",
        "    packing = False, # Can make training 5x faster for short sequences.\n",
        "    args = TrainingArguments(\n",
        "        per_device_train_batch_size = 2,\n",
        "        gradient_accumulation_steps = 4,\n",
        "        warmup_steps = 5,\n",
        "        max_steps = 60,\n",
        "        learning_rate = 2e-4,\n",
        "        fp16 = not is_bfloat16_supported(),\n",
        "        bf16 = is_bfloat16_supported(),\n",
        "        logging_steps = 1,\n",
        "        optim = \"adamw_8bit\",\n",
        "        weight_decay = 0.01,\n",
        "        lr_scheduler_type = \"linear\",\n",
        "        seed = 3407,\n",
        "        output_dir = \"outputs\",\n",
        "    ),\n",
        ")"
      ],
      "metadata": {
        "colab": {
          "base_uri": "https://localhost:8080/",
          "height": 54,
          "referenced_widgets": [
            "5cdd2ef3bf0a4d568cf88d8d717b3a94",
            "e1b92ad679d24898a716564cacef4059",
            "a49f2327e2524835b323a3f27552894f",
            "85cb9f19eb694f2c9f71ea89b10e9b9b",
            "300a05a1db714e04a8fe555b96fdf34b",
            "49bc9bc292ac4a0096c54142bf7a5a49",
            "948a074fe93e481694fdd3b322ada4b6",
            "efec78b082db4a6fb948456001e76c87",
            "ab83867b8d3244ca97f2d72cb256aa3a",
            "126ce0e2c7d04fc8b688aeacf8e2f97f",
            "741866b9bb2d4f259057a6b0801179fc"
          ]
        },
        "id": "_gry0kn_JNux",
        "outputId": "d8168342-b89b-4a28-f155-25e2176f173b"
      },
      "execution_count": 20,
      "outputs": [
        {
          "output_type": "stream",
          "name": "stderr",
          "text": [
            "Setting TOKENIZERS_PARALLELISM=false for forked processes.\n"
          ]
        },
        {
          "output_type": "display_data",
          "data": {
            "text/plain": [
              "Map (num_proc=2):   0%|          | 0/37 [00:00<?, ? examples/s]"
            ],
            "application/vnd.jupyter.widget-view+json": {
              "version_major": 2,
              "version_minor": 0,
              "model_id": "5cdd2ef3bf0a4d568cf88d8d717b3a94"
            }
          },
          "metadata": {}
        },
        {
          "output_type": "stream",
          "name": "stderr",
          "text": [
            "max_steps is given, it will override any value given in num_train_epochs\n"
          ]
        }
      ]
    },
    {
      "cell_type": "code",
      "source": [
        "trainer_stats = trainer.train()"
      ],
      "metadata": {
        "colab": {
          "base_uri": "https://localhost:8080/",
          "height": 1000
        },
        "id": "LLanaPL0JU-W",
        "outputId": "1aa073c5-dec3-4d7f-eba2-101370e3fab0"
      },
      "execution_count": 21,
      "outputs": [
        {
          "output_type": "stream",
          "name": "stderr",
          "text": [
            "==((====))==  Unsloth - 2x faster free finetuning | Num GPUs = 1\n",
            "   \\\\   /|    Num examples = 37 | Num Epochs = 15\n",
            "O^O/ \\_/ \\    Batch size per device = 2 | Gradient Accumulation steps = 4\n",
            "\\        /    Total batch size = 8 | Total steps = 60\n",
            " \"-____-\"     Number of trainable parameters = 41,943,040\n"
          ]
        },
        {
          "output_type": "display_data",
          "data": {
            "text/plain": [
              "<IPython.core.display.HTML object>"
            ],
            "text/html": [
              "\n",
              "    <div>\n",
              "      \n",
              "      <progress value='60' max='60' style='width:300px; height:20px; vertical-align: middle;'></progress>\n",
              "      [60/60 14:11, Epoch 12/15]\n",
              "    </div>\n",
              "    <table border=\"1\" class=\"dataframe\">\n",
              "  <thead>\n",
              " <tr style=\"text-align: left;\">\n",
              "      <th>Step</th>\n",
              "      <th>Training Loss</th>\n",
              "    </tr>\n",
              "  </thead>\n",
              "  <tbody>\n",
              "    <tr>\n",
              "      <td>1</td>\n",
              "      <td>3.444200</td>\n",
              "    </tr>\n",
              "    <tr>\n",
              "      <td>2</td>\n",
              "      <td>3.517300</td>\n",
              "    </tr>\n",
              "    <tr>\n",
              "      <td>3</td>\n",
              "      <td>3.245000</td>\n",
              "    </tr>\n",
              "    <tr>\n",
              "      <td>4</td>\n",
              "      <td>3.562900</td>\n",
              "    </tr>\n",
              "    <tr>\n",
              "      <td>5</td>\n",
              "      <td>3.393200</td>\n",
              "    </tr>\n",
              "    <tr>\n",
              "      <td>6</td>\n",
              "      <td>3.308000</td>\n",
              "    </tr>\n",
              "    <tr>\n",
              "      <td>7</td>\n",
              "      <td>3.033000</td>\n",
              "    </tr>\n",
              "    <tr>\n",
              "      <td>8</td>\n",
              "      <td>3.477300</td>\n",
              "    </tr>\n",
              "    <tr>\n",
              "      <td>9</td>\n",
              "      <td>3.319200</td>\n",
              "    </tr>\n",
              "    <tr>\n",
              "      <td>10</td>\n",
              "      <td>2.969200</td>\n",
              "    </tr>\n",
              "    <tr>\n",
              "      <td>11</td>\n",
              "      <td>3.382300</td>\n",
              "    </tr>\n",
              "    <tr>\n",
              "      <td>12</td>\n",
              "      <td>3.245900</td>\n",
              "    </tr>\n",
              "    <tr>\n",
              "      <td>13</td>\n",
              "      <td>2.978400</td>\n",
              "    </tr>\n",
              "    <tr>\n",
              "      <td>14</td>\n",
              "      <td>3.243000</td>\n",
              "    </tr>\n",
              "    <tr>\n",
              "      <td>15</td>\n",
              "      <td>3.021000</td>\n",
              "    </tr>\n",
              "    <tr>\n",
              "      <td>16</td>\n",
              "      <td>2.552400</td>\n",
              "    </tr>\n",
              "    <tr>\n",
              "      <td>17</td>\n",
              "      <td>3.057700</td>\n",
              "    </tr>\n",
              "    <tr>\n",
              "      <td>18</td>\n",
              "      <td>2.943600</td>\n",
              "    </tr>\n",
              "    <tr>\n",
              "      <td>19</td>\n",
              "      <td>3.402500</td>\n",
              "    </tr>\n",
              "    <tr>\n",
              "      <td>20</td>\n",
              "      <td>2.593500</td>\n",
              "    </tr>\n",
              "    <tr>\n",
              "      <td>21</td>\n",
              "      <td>3.037900</td>\n",
              "    </tr>\n",
              "    <tr>\n",
              "      <td>22</td>\n",
              "      <td>2.638300</td>\n",
              "    </tr>\n",
              "    <tr>\n",
              "      <td>23</td>\n",
              "      <td>3.225700</td>\n",
              "    </tr>\n",
              "    <tr>\n",
              "      <td>24</td>\n",
              "      <td>2.653700</td>\n",
              "    </tr>\n",
              "    <tr>\n",
              "      <td>25</td>\n",
              "      <td>2.206400</td>\n",
              "    </tr>\n",
              "    <tr>\n",
              "      <td>26</td>\n",
              "      <td>3.033900</td>\n",
              "    </tr>\n",
              "    <tr>\n",
              "      <td>27</td>\n",
              "      <td>2.894800</td>\n",
              "    </tr>\n",
              "    <tr>\n",
              "      <td>28</td>\n",
              "      <td>2.776600</td>\n",
              "    </tr>\n",
              "    <tr>\n",
              "      <td>29</td>\n",
              "      <td>2.818400</td>\n",
              "    </tr>\n",
              "    <tr>\n",
              "      <td>30</td>\n",
              "      <td>2.749100</td>\n",
              "    </tr>\n",
              "    <tr>\n",
              "      <td>31</td>\n",
              "      <td>2.500600</td>\n",
              "    </tr>\n",
              "    <tr>\n",
              "      <td>32</td>\n",
              "      <td>2.251600</td>\n",
              "    </tr>\n",
              "    <tr>\n",
              "      <td>33</td>\n",
              "      <td>2.639500</td>\n",
              "    </tr>\n",
              "    <tr>\n",
              "      <td>34</td>\n",
              "      <td>2.368500</td>\n",
              "    </tr>\n",
              "    <tr>\n",
              "      <td>35</td>\n",
              "      <td>2.727800</td>\n",
              "    </tr>\n",
              "    <tr>\n",
              "      <td>36</td>\n",
              "      <td>2.107500</td>\n",
              "    </tr>\n",
              "    <tr>\n",
              "      <td>37</td>\n",
              "      <td>2.303200</td>\n",
              "    </tr>\n",
              "    <tr>\n",
              "      <td>38</td>\n",
              "      <td>2.449800</td>\n",
              "    </tr>\n",
              "    <tr>\n",
              "      <td>39</td>\n",
              "      <td>2.026900</td>\n",
              "    </tr>\n",
              "    <tr>\n",
              "      <td>40</td>\n",
              "      <td>2.414700</td>\n",
              "    </tr>\n",
              "    <tr>\n",
              "      <td>41</td>\n",
              "      <td>2.183200</td>\n",
              "    </tr>\n",
              "    <tr>\n",
              "      <td>42</td>\n",
              "      <td>2.120000</td>\n",
              "    </tr>\n",
              "    <tr>\n",
              "      <td>43</td>\n",
              "      <td>2.557300</td>\n",
              "    </tr>\n",
              "    <tr>\n",
              "      <td>44</td>\n",
              "      <td>2.331100</td>\n",
              "    </tr>\n",
              "    <tr>\n",
              "      <td>45</td>\n",
              "      <td>2.579000</td>\n",
              "    </tr>\n",
              "    <tr>\n",
              "      <td>46</td>\n",
              "      <td>1.894400</td>\n",
              "    </tr>\n",
              "    <tr>\n",
              "      <td>47</td>\n",
              "      <td>1.663400</td>\n",
              "    </tr>\n",
              "    <tr>\n",
              "      <td>48</td>\n",
              "      <td>2.132000</td>\n",
              "    </tr>\n",
              "    <tr>\n",
              "      <td>49</td>\n",
              "      <td>1.986600</td>\n",
              "    </tr>\n",
              "    <tr>\n",
              "      <td>50</td>\n",
              "      <td>1.637500</td>\n",
              "    </tr>\n",
              "    <tr>\n",
              "      <td>51</td>\n",
              "      <td>2.311600</td>\n",
              "    </tr>\n",
              "    <tr>\n",
              "      <td>52</td>\n",
              "      <td>1.969800</td>\n",
              "    </tr>\n",
              "    <tr>\n",
              "      <td>53</td>\n",
              "      <td>2.085500</td>\n",
              "    </tr>\n",
              "    <tr>\n",
              "      <td>54</td>\n",
              "      <td>2.076700</td>\n",
              "    </tr>\n",
              "    <tr>\n",
              "      <td>55</td>\n",
              "      <td>1.825800</td>\n",
              "    </tr>\n",
              "    <tr>\n",
              "      <td>56</td>\n",
              "      <td>1.837600</td>\n",
              "    </tr>\n",
              "    <tr>\n",
              "      <td>57</td>\n",
              "      <td>1.680800</td>\n",
              "    </tr>\n",
              "    <tr>\n",
              "      <td>58</td>\n",
              "      <td>1.773600</td>\n",
              "    </tr>\n",
              "    <tr>\n",
              "      <td>59</td>\n",
              "      <td>1.878700</td>\n",
              "    </tr>\n",
              "    <tr>\n",
              "      <td>60</td>\n",
              "      <td>2.051200</td>\n",
              "    </tr>\n",
              "  </tbody>\n",
              "</table><p>"
            ]
          },
          "metadata": {}
        }
      ]
    },
    {
      "cell_type": "code",
      "source": [
        "#@title Show final memory and time stats\n",
        "used_memory = round(torch.cuda.max_memory_reserved() / 1024 / 1024 / 1024, 3)\n",
        "used_memory_for_lora = round(used_memory - start_gpu_memory, 3)\n",
        "used_percentage = round(used_memory         /max_memory*100, 3)\n",
        "lora_percentage = round(used_memory_for_lora/max_memory*100, 3)\n",
        "print(f\"{trainer_stats.metrics['train_runtime']} seconds used for training.\")\n",
        "print(f\"{round(trainer_stats.metrics['train_runtime']/60, 2)} minutes used for training.\")\n",
        "print(f\"Peak reserved memory = {used_memory} GB.\")\n",
        "print(f\"Peak reserved memory for training = {used_memory_for_lora} GB.\")\n",
        "print(f\"Peak reserved memory % of max memory = {used_percentage} %.\")\n",
        "print(f\"Peak reserved memory for training % of max memory = {lora_percentage} %.\")"
      ],
      "metadata": {
        "colab": {
          "base_uri": "https://localhost:8080/",
          "height": 221
        },
        "id": "4bz20yBMJaTy",
        "outputId": "a3ac642f-c55f-4bef-9fc2-6de1e11fb0ff"
      },
      "execution_count": 22,
      "outputs": [
        {
          "output_type": "error",
          "ename": "NameError",
          "evalue": "name 'start_gpu_memory' is not defined",
          "traceback": [
            "\u001b[0;31m---------------------------------------------------------------------------\u001b[0m",
            "\u001b[0;31mNameError\u001b[0m                                 Traceback (most recent call last)",
            "Cell \u001b[0;32mIn[22], line 3\u001b[0m\n\u001b[1;32m      1\u001b[0m \u001b[38;5;66;03m#@title Show final memory and time stats\u001b[39;00m\n\u001b[1;32m      2\u001b[0m used_memory \u001b[38;5;241m=\u001b[39m \u001b[38;5;28mround\u001b[39m(torch\u001b[38;5;241m.\u001b[39mcuda\u001b[38;5;241m.\u001b[39mmax_memory_reserved() \u001b[38;5;241m/\u001b[39m \u001b[38;5;241m1024\u001b[39m \u001b[38;5;241m/\u001b[39m \u001b[38;5;241m1024\u001b[39m \u001b[38;5;241m/\u001b[39m \u001b[38;5;241m1024\u001b[39m, \u001b[38;5;241m3\u001b[39m)\n\u001b[0;32m----> 3\u001b[0m used_memory_for_lora \u001b[38;5;241m=\u001b[39m \u001b[38;5;28mround\u001b[39m(used_memory \u001b[38;5;241m-\u001b[39m \u001b[43mstart_gpu_memory\u001b[49m, \u001b[38;5;241m3\u001b[39m)\n\u001b[1;32m      4\u001b[0m used_percentage \u001b[38;5;241m=\u001b[39m \u001b[38;5;28mround\u001b[39m(used_memory         \u001b[38;5;241m/\u001b[39mmax_memory\u001b[38;5;241m*\u001b[39m\u001b[38;5;241m100\u001b[39m, \u001b[38;5;241m3\u001b[39m)\n\u001b[1;32m      5\u001b[0m lora_percentage \u001b[38;5;241m=\u001b[39m \u001b[38;5;28mround\u001b[39m(used_memory_for_lora\u001b[38;5;241m/\u001b[39mmax_memory\u001b[38;5;241m*\u001b[39m\u001b[38;5;241m100\u001b[39m, \u001b[38;5;241m3\u001b[39m)\n",
            "\u001b[0;31mNameError\u001b[0m: name 'start_gpu_memory' is not defined"
          ]
        }
      ]
    },
    {
      "cell_type": "code",
      "source": [
        "report = \"sofacy also known apt28 fancy bear tsar team highly active proliﬁc apt high volume 0day deployment innovative broad malware set sofacy one top groups monitor report protect 2017 diﬀerent regard private reports subscription customers receive steady stream yara ioc reports sofacy reported apt year high level cyber-espionage activity goes back years 2011-2012 group used relatively tiny implant known sofacy sourface ﬁrst stage malware time similarities old miniduke implants made us believe two groups connected although looks split ways certain point original miniduke group switching cosmicduke implant 2014. division malware consistent deﬁnitive point 2013 sofacy group expanded arsenal added backdoors tools including coreshell splm aka xagent aka chopstick jhuhugit built code carberp sources azzy aka advstoreshell netui eviltoss spans across 4-5 generations others seen quite versions implants relatively widespread point still 2015 noticed another wave attacks took advantage new release azzy implant largely undetected antivirus products new wave attacks included new generation usb stealers deployed sofacy initial versions dating february 2015. appeared geared exclusively towards high proﬁle targets sofacy reported presence dnc network alongside apt29 brought possibly highest level public attention group activities 2016 especially data compromise leaked weaponized later 2016 focus turned towards olympics world anti-doping agency wada court arbitration sports cas individuals servers organizations phished compromised similar vein past cyberberkut activity attackers hid behind anonymous activist groups like anonpoland data victimized organizations similarly leaked weaponized write-up survey notables past year 2017 sofacy activity including targeting technology notes infrastructure one research group 100 global visibility collected data isactivity great february 20 2018 2:00 mpresented accordingly external apt28 reports 2017 darkhotel- style activity europe dealer choice spearphishing interest sit 2017 sofacy activity starts heavy focus nato ukrainian partners coinciding lighter interest central asian targets ﬁnishing second half year heavy focus central asian targets shift east dealer choice beginning 2017 began slow cleanup following dealer choice campaign technical characteristics documented colleagues palo alto several stages end 2016. group spearphished targets several waves flash exploits leading carberp based jhuhugit downloaders stages malware seems many folks log pull emails jan 2017 retrieve dealer choice spearphish throughout waves observed targets provided connection even tangential ukraine nato military diplomatic interests multiple cases sofacy spoofs identity target emails spearphish targets interest often military military- technology manufacturing related dealerschoice spearphish nato related global reach coincided focus nato ukraine overstated ksn data showed spearphishing targets geolocated across globe 2017. az fr de iq kg ch ua us vn dealerschoice emails like one able recover third party sources provided additional targeting insight conﬁrmed targeting within ksn data tr pl ba az kr lv ge lv au se 0day deployment sofacy kicked oﬀ year deploying two 0day spearphish document microsoft oﬃce encapsulated postscript type confusion exploit abusing cve-2017-0262 escalation privilege use-after-free exploit abusing cve-2017-0263 group attempted deploy spearphish attachment push small 30kb backdoor known gamefish targets europe beginning 2017. took advantage syrian military conﬂict thematic content ﬁle naming trump s_attack_on_syria_english.docx deployment likely part focus nato targets light splm deployment central asia consistent infrastructure meanwhile early-to-mid 2017 splm/chopstick/xagent detections central asia provided glimpse ongoing focus ex-soviet republics central asia particular detections interesting indicate attempted selective 2nd stage deployment backdoor maintaining ﬁlestealer keylogger remoteshell functionality asystem interest latest revision backdoor portions splm match previous reports splm/xagent similarities maintained splm 64-bit modules already appeared version software may year targeting proﬁles included defense related commercial military organizations telecommunications targeting included tr kz kg jo uk uz heavy zebrocy deployments since mid-november 2015 threat actor referred sofacy apt28 utilizing unique payload delivery mechanism written delphi autoit collectively refer package related activity zebrocy written reports usage development june 2017 sofacy developers modiﬁed redeployed incremented versions malware zebrocy chain follows pattern spearphish attachment compiled autoit script downloader zebrocy payload deployments observed sofacy actively developing deploying new package much smaller speciﬁc subset targets within broader set targeting proﬁles spearphish ﬁlenames lures carry thematic content related visa applications scanned images border control administration various administrative notes targeting appears widely spread across middle east europe asia /p style= margin- bottom:0 important business accounting practices standards science engineering centers industrial hydrochemical engineering standards/certiﬁcation ministry foreign aﬀairs embassies consulatesnational security intelligence agencies press services translation services ngo family social service ministry energy industry identiﬁed new msil components deployed zebrocy recent zebrocy versioning 7.1 related zebrocy modules drop ﬁle-stealing msil modules call covfacy v7.0 components unexpected inclusion particular toolset example one sent handful countries identiﬁes network drives added target systems rc4-like-encrypts writes certain ﬁle metadata contents local path later exﬁltration stealer searches ﬁles 60mb less extensions /p style= margin-bottom:0 important .doc .docx .xls .xlsx .ppt .pptx .exe .zip .rar execution installs application-deﬁned windows hook hook gets windows messages indicating network drive attached upon adding network drive hook calls recordtofile ﬁle stealer method zebrocy spearphishing targets af au az bd cn de es fi ge il jo kw kg kz lb lt mn nl om pk po sa za sk se ch tj tm tr ua uae uk us uz splm deployment central asia splm/chopstick components deployed throughout 2017 native 64-bit modular c++ windows com backdoors supporting http fully encrypted tlsv1 tlsv1.2 communications mostly deployed second half 2017 sofacy earlier splm activity deployed 32-bit modules unencrypted http sometimes smtp sessions 2016 saw fully functional large splm/x-agent modules supporting os x. executable module continues part framework supporting various internal external components communicating internal external channels maintaining slightly morphed encryption functionality per deployment sofacy selectively used splm/chopstick modules second stage implants high interest targets years change previous compilations module structured used inject remote shell keylogger ﬁlesystem add-ons processes running victim systems maintaining functionality originally present within main module newer splm modules deployed mostly central asian based targets may tie nato form targets include foreign aﬀairs government organizations localized abroad defense organizations presence localized located europe also located afghanistan one outlier splm target proﬁle within visibility includes audit consulting ﬁrm bosnia herzegovina minor changes updates code released deployments including new mutex format exclusive use encrypted http communications tls compiled code already altered per deployment multiple subtle ways order stymie identiﬁcation automated analysis accommodate targeted environments strings c2 domains functionality error messages etc custom encrypted per deployment targets tr kz ba tm af de lt nl splm/chop stick/xagent modularity infrastructurethis subset splm/chopstick activity leads several small surprises take us 2018 discussed detail sas 2018. group demonstrates malleability innovation maintaining producing familiar splm functionality pragmatic systematic approach towards producing undetected diﬃcult-to-detect malware continues changes second stage splm backdoor reﬁned making code reliably modular infrastructure notes sofacy set maintained multiple servers c2 varying durations registering fairly recognizable domains privacy services registrars accept bitcoin fake phone numbers phony individual names email address domain registration relationships activity patterns publicly disclosed expect see change process 2018. also throughout year previous years researchers began comment publicly sofacy fairly consistent infrastructure setup always attackers make mistakes give away hints providers registrars prefer interesting note version splm implements communications fully encrypted https example might see extraneous data ssl/tls certiﬁcates give away information provider resources leading summer 2017 infrastructure mostly created pdr internet domain service bs corp resellers hosting mostly provided fast serv inc resellers likelihood related bitcoin payment processing accordingly server side certiﬁcates appear generated locally vps hosts exclusively paid providers bitcoin merchant processing one certiﬁcate generated locally appeared hp-ux box another generated 8569985.securefastserver com email address root 8569985.securefastserver com seen nethostnet com domain certiﬁcate conﬁguration ignored malware addition ip data data point suggested qhoster https //www.qhoster com vps hosting reseller choice time noted reseller accepted alfa click paypal payza neteller skrill webmoney perfect money bitcoin litecoin solidtrust pay cashu ukash okpay egopay paysafecard alipay mg western union sofort banking qiwi bank transfer payment conclusion sofacy one active apt monitor continues spearphish way targets reportedly widely phishes credentials infrequently participates server side activity including host compromise beef deployment example ksn visibility detections suggests shift early 2017 high volume nato spearphish targeting towards middle east central asia ﬁnally moving focus east late 2017. operational security good campaigns appear broken subsets activity malware involving gamefish zebrocy splm name evolving modiﬁed splm/chopstick/xagent code long- standing part sofacy activity however much changing cover recent 2018 change targeting malware sas 2018. group like sofacy attention detected network important review logins unusual administrator access systems thoroughly scan sandbox incoming attachments maintain two factor authentication services like email vpn access order identify presence gain valuable insight targeting intelligence reports gain powerful means detections hunting tools like yara out-of-band processing solution like kata important technical appendix related md5 8f9f697aa6697acee70336f66f295837 1a4b9a6b321da199aa6d10180e889313 842454b48f5f80002 9946b1555fba7fc d4a5d44184333442f5015699c2b8af28 1421419d1be31f1f9ea60e8ed87277db b1d1a2c64474d2f6e7a5db71ccbafa31 953c7321c4959655fdd53302550ce02d 57601d717fcf358220340675f8d63c8a 02b79c468c38c4312429a499fa4f6c81 85cd38f9e2c9397a18013a8921841a04 f8e92d8b5488ea76c40601c8f1a08790 66b4fb539806ce27be184b6735584339 e8e1fcf757fe06be13bead43eaa1338c 953c7321c4959655fdd53302550ce02d aa2aac4606405d61c7e53140d35d7671 85cd38f9e2c9397a18013a8921841a04 57601d717fcf358220340675f8d63c8a 16e1ca26bc66e30bfa52f8a08846613d f8e92d8b5488ea76c40601c8f1a08790 b137c809e3bf11f2f5d867a6f4215f95 237e6dcbc6af50ef5f5211818522c463 88009adca35560810ec220544e4fb6aa 2163a33330ae5786d3e984db09b2d9d2 02b79c468c38c4312429a499fa4f6c81 842454b48f5f80002 9946b1555fba7fc d4a5d44184333442f5015699c2b8af28 b88633376fbb144971dcb503f72fd192 8f9f697aa6697acee70336f66f295837 b6f77273cbde76896a36e32b0c0540e1 1a4b9a6b321da199aa6d10180e889313 1421419d1be31f1f9ea60e8ed87277db 1a4b9a6b321da199aa6d10180e889313 9b10685b774a783eabfecdb6119a8aa3 aa34fb2e5849bﬀ4144a1c98a8158970 aced5525ba0d4f44ﬀd01c4db2730a34 b1d1a2c64474d2f6e7a5db71ccbafa31 b924ﬀ83d9120d934bb49a7a2e3c4292 cdb58c2999eeda58a9d0c70f910d1195 d4a5d44184333442f5015699c2b8af28 d6f2bf2066e053e58fe8bcd39cb2e9ad 34dc9a69f33ba93e631cd5048d9f2624 1c6f8eba504f2f429abf362626545c79 139c9ac0776804714ebe8b8d35a04641 e228cd74103dc069663bb87d4f22d7d5 bed5bc0a8aae2662ea5d2484f80c1760 8c3f5f1ﬀf999bc783062dd50357be79 5882a8dd4446abd137c05d2451b85fea 296c956fe429cedd1b64b78e66797122 82f06d7157dd28a75f1fbb47728aea25 9a975e0ddd32c0deef1318c485358b20 529424eae07677834a770aaa431e6c54 4cafde8fa7d9e67194d4edd4f2adb92b f6b2ef4daf1b78802548d3e6d4de7ba7 ede5d82bb6775a9b1659dccb699fadcb 116d2fc1665ce7524826a624be0ded1c 20ﬀ290b8393f006eaf4358f09f13e99 4b02dfdfd44df3c88b0ca8c2327843a4 c789ec7537e300411d523aef74407a5e 0b32e65caf653d77cab2a866ee2d9dbc 27faa10d1bec1a25f66e88645c695016 647edddf61954822ddb7ab3341f9a6c5 2f04b8eb993ca4a3d98607824a10acfb 9fe3a0fb3304d749aeed2c3e2e5787eb 62deab0e5d61d6bf9e0ba83d9e1d7e2b 86b607fe63c76b3d808f84969cb1a781 f62182cf0ab94b3c97b0261547dfc6cf 504182aaa5575bb38bf584839beb6d51 d79a21970cad03e22440ea66bd85931f related domains nethostnet com hostsvcnet com etcrem net movieultimate com newﬁlmts com fastdataexchange org liveweatherview com analyticsbar org analyticstest net lifeofmentalservice com meteost com righttopregnantpower com kiteim org adobe-ﬂash-updates org generalsecurityscan com globalresearching org lvueton com audiwheel com online-reggi com fsportal net netcorpscanprotect com mvband net mvtband net viters org treepastwillingmoment com sendmevideo org satellitedeluxpanorama com ppcodecs com encoder-info tk wmdmediacodecs com postlkwarn com shcserv com versiontask com share post webcdelivery com miropc org securityprotectingcorp com uniquecorpind com appexsrv net adobeupgradeﬂash com apt backdoor campaigns cyber espionage nation state sponsored espionage sofacy targeted attacks vulnerabilities exploits zero-day vulnerabilities related posts zero-day vulnerability telegramgas expensive let make cheap denis co\""
      ],
      "metadata": {
        "id": "FmnLzM9EJlbk"
      },
      "execution_count": 23,
      "outputs": []
    },
    {
      "cell_type": "code",
      "source": [
        "FastLanguageModel.for_inference(model) # Enable native 2x faster inference\n",
        "inputs = tokenizer(\n",
        "[\n",
        "    base_prompt.format(\n",
        "        # INSTRUCTION, # instruction\n",
        "        report, # input\n",
        "        \"\", # output - leave this blank for generation!\n",
        "    )\n",
        "], return_tensors = \"pt\").to(\"cuda\")\n",
        "\n",
        "outputs = model.generate(**inputs, max_new_tokens = 64, use_cache = True)\n",
        "tokenizer.batch_decode(outputs)"
      ],
      "metadata": {
        "colab": {
          "base_uri": "https://localhost:8080/"
        },
        "id": "R235yMIiJgw-",
        "outputId": "26081b10-a6db-4e66-c4d0-4c82d2fb506b"
      },
      "execution_count": 24,
      "outputs": [
        {
          "output_type": "stream",
          "name": "stderr",
          "text": [
            "Setting `pad_token_id` to `eos_token_id`:128001 for open-end generation.\n"
          ]
        },
        {
          "output_type": "execute_result",
          "data": {
            "text/plain": [
              "['<|begin_of_text|>Extract tactics from the following text. Tactics represent the \"why\" of an attack technique or sub-technique. It is a tactical goal or reason for performing an action. Choose one or more from these options\\n    Reconnaissance, Resource Development, Initial Access, Persistence, Execution, Privilege Escalation, Defense Evasion, Credential Access, Discovery, Lateral Movement, Collection, Command and Control, Exfiltration, Impact \\n    Extract tactics from the following text. \\n### Text:\\nsofacy also known apt28 fancy bear tsar team highly active proliﬁc apt high volume 0day deployment innovative broad malware set sofacy one top groups monitor report protect 2017 diﬀerent regard private reports subscription customers receive steady stream yara ioc reports sofacy reported apt year high level cyber-espionage activity goes back years 2011-2012 group used relatively tiny implant known sofacy sourface ﬁrst stage malware time similarities old miniduke implants made us believe two groups connected although looks split ways certain point original miniduke group switching cosmicduke implant 2014. division malware consistent deﬁnitive point 2013 sofacy group expanded arsenal added backdoors tools including coreshell splm aka xagent aka chopstick jhuhugit built code carberp sources azzy aka advstoreshell netui eviltoss spans across 4-5 generations others seen quite versions implants relatively widespread point still 2015 noticed another wave attacks took advantage new release azzy implant largely undetected antivirus products new wave attacks included new generation usb stealers deployed sofacy initial versions dating february 2015. appeared geared exclusively towards high proﬁle targets sofacy reported presence dnc network alongside apt29 brought possibly highest level public attention group activities 2016 especially data compromise leaked weaponized later 2016 focus turned towards olympics world anti-doping agency wada court arbitration sports cas individuals servers organizations phished compromised similar vein past cyberberkut activity attackers hid behind anonymous activist groups like anonpoland data victimized organizations similarly leaked weaponized write-up survey notables past year 2017 sofacy activity including targeting technology notes infrastructure one research group 100 global visibility collected data isactivity great february 20 2018 2:00 mpresented accordingly external apt28 reports 2017 darkhotel- style activity europe dealer choice spearphishing interest sit 2017 sofacy activity starts heavy focus nato ukrainian partners coinciding lighter interest central asian targets ﬁnishing second half year heavy focus central asian targets shift east dealer choice beginning 2017 began slow cleanup following dealer choice campaign technical characteristics documented colleagues palo alto several stages end 2016. group spearphished targets several waves flash exploits leading carberp based jhuhugit downloaders stages malware seems many folks log pull emails jan 2017 retrieve dealer choice spearphish throughout waves observed targets provided connection even tangential ukraine nato military diplomatic interests multiple cases sofacy spoofs identity target emails spearphish targets interest often military military- technology manufacturing related dealerschoice spearphish nato related global reach coincided focus nato ukraine overstated ksn data showed spearphishing targets geolocated across globe 2017. az fr de iq kg ch ua us vn dealerschoice emails like one able recover third party sources provided additional targeting insight conﬁrmed targeting within ksn data tr pl ba az kr lv ge lv au se 0day deployment sofacy kicked oﬀ year deploying two 0day spearphish document microsoft oﬃce encapsulated postscript type confusion exploit abusing cve-2017-0262 escalation privilege use-after-free exploit abusing cve-2017-0263 group attempted deploy spearphish attachment push small 30kb backdoor known gamefish targets europe beginning 2017. took advantage syrian military conﬂict thematic content ﬁle naming trump s_attack_on_syria_english.docx deployment likely part focus nato targets light splm deployment central asia consistent infrastructure meanwhile early-to-mid 2017 splm/chopstick/xagent detections central asia provided glimpse ongoing focus ex-soviet republics central asia particular detections interesting indicate attempted selective 2nd stage deployment backdoor maintaining ﬁlestealer keylogger remoteshell functionality asystem interest latest revision backdoor portions splm match previous reports splm/xagent similarities maintained splm 64-bit modules already appeared version software may year targeting proﬁles included defense related commercial military organizations telecommunications targeting included tr kz kg jo uk uz heavy zebrocy deployments since mid-november 2015 threat actor referred sofacy apt28 utilizing unique payload delivery mechanism written delphi autoit collectively refer package related activity zebrocy written reports usage development june 2017 sofacy developers modiﬁed redeployed incremented versions malware zebrocy chain follows pattern spearphish attachment compiled autoit script downloader zebrocy payload deployments observed sofacy actively developing deploying new package much smaller speciﬁc subset targets within broader set targeting proﬁles spearphish ﬁlenames lures carry thematic content related visa applications scanned images border control administration various administrative notes targeting appears widely spread across middle east europe asia /p style= margin- bottom:0 important business accounting practices standards science engineering centers industrial hydrochemical engineering standards/certiﬁcation ministry foreign aﬀairs embassies consulatesnational security intelligence agencies press services translation services ngo family social service ministry energy industry identiﬁed new msil components deployed zebrocy recent zebrocy versioning 7.1 related zebrocy modules drop ﬁle-stealing msil modules call covfacy v7.0 components unexpected inclusion particular toolset example one sent handful countries identiﬁes network drives added target systems rc4-like-encrypts writes certain ﬁle metadata contents local path later exﬁltration stealer searches ﬁles 60mb less extensions /p style= margin-bottom:0 important.doc.docx.xls.xlsx.ppt.pptx.exe.zip.rar execution installs application-deﬁned windows hook hook gets windows messages indicating network drive attached upon adding network drive hook calls recordtofile ﬁle stealer method zebrocy spearphishing targets af au az bd cn de es fi ge il jo kw kg kz lb lt mn nl om pk po sa za sk se ch tj tm tr ua uae uk us uz splm deployment central asia splm/chopstick components deployed throughout 2017 native 64-bit modular c++ windows com backdoors supporting http fully encrypted tlsv1 tlsv1.2 communications mostly deployed second half 2017 sofacy earlier splm activity deployed 32-bit modules unencrypted http sometimes smtp sessions 2016 saw fully functional large splm/x-agent modules supporting os x. executable module continues part framework supporting various internal external components communicating internal external channels maintaining slightly morphed encryption functionality per deployment sofacy selectively used splm/chopstick modules second stage implants high interest targets years change previous compilations module structured used inject remote shell keylogger ﬁlesystem add-ons processes running victim systems maintaining functionality originally present within main module newer splm modules deployed mostly central asian based targets may tie nato form targets include foreign aﬀairs government organizations localized abroad defense organizations presence localized located europe also located afghanistan one outlier splm target proﬁle within visibility includes audit consulting ﬁrm bosnia herzegovina minor changes updates code released deployments including new mutex format exclusive use encrypted http communications tls compiled code already altered per deployment multiple subtle ways order stymie identiﬁcation automated analysis accommodate targeted environments strings c2 domains functionality error messages etc custom encrypted per deployment targets tr kz ba tm af de lt nl splm/chop stick/xagent modularity infrastructurethis subset splm/chopstick activity leads several small surprises take us 2018 discussed detail sas 2018. group demonstrates malleability innovation maintaining producing familiar splm functionality pragmatic systematic approach towards producing undetected diﬃcult-to-detect malware continues changes second stage splm backdoor reﬁned making code reliably modular infrastructure notes sofacy set maintained multiple servers c2 varying durations registering fairly recognizable domains privacy services registrars accept bitcoin fake phone numbers phony individual names email address domain registration relationships activity patterns publicly disclosed expect see change process 2018. also throughout year previous years researchers began comment publicly sofacy fairly consistent infrastructure setup always attackers make mistakes give away hints providers registrars prefer interesting note version splm implements communications fully encrypted https example might see extraneous data ssl/tls certiﬁcates give away information provider resources leading summer 2017 infrastructure mostly created pdr internet domain service bs corp resellers hosting mostly provided fast serv inc resellers likelihood related bitcoin payment processing accordingly server side certiﬁcates appear generated locally vps hosts exclusively paid providers bitcoin merchant processing one certiﬁcate generated locally appeared hp-ux box another generated 8569985.securefastserver com email address root 8569985.securefastserver com seen nethostnet com domain certiﬁcate conﬁguration ignored malware addition ip data data point suggested qhoster https //www.qhoster com vps hosting reseller choice time noted reseller accepted alfa click paypal payza neteller skrill webmoney perfect money bitcoin litecoin solidtrust pay cashu ukash okpay egopay paysafecard alipay mg western union sofort banking qiwi bank transfer payment conclusion sofacy one active apt monitor continues spearphish way targets reportedly widely phishes credentials infrequently participates server side activity including host compromise beef deployment example ksn visibility detections suggests shift early 2017 high volume nato spearphish targeting towards middle east central asia ﬁnally moving focus east late 2017. operational security good campaigns appear broken subsets activity malware involving gamefish zebrocy splm name evolving modiﬁed splm/chopstick/xagent code long- standing part sofacy activity however much changing cover recent 2018 change targeting malware sas 2018. group like sofacy attention detected network important review logins unusual administrator access systems thoroughly scan sandbox incoming attachments maintain two factor authentication services like email vpn access order identify presence gain valuable insight targeting intelligence reports gain powerful means detections hunting tools like yara out-of-band processing solution like kata important technical appendix related md5 8f9f697aa6697acee70336f66f295837 1a4b9a6b321da199aa6d10180e889313 842454b48f5f80002 9946b1555fba7fc d4a5d44184333442f5015699c2b8af28 1421419d1be31f1f9ea60e8ed87277db b1d1a2c64474d2f6e7a5db71ccbafa31 953c7321c4959655fdd53302550ce02d 57601d717fcf358220340675f8d63c8a 02b79c468c38c4312429a499fa4f6c81 85cd38f9e2c9397a18013a8921841a04 f8e92d8b5488ea76c40601c8f1a08790 66b4fb539806ce27be184b6735584339 e8e1fcf757fe06be13bead43eaa1338c 953c7321c4959655fdd53302550ce02d aa2aac4606405d61c7e53140d35d7671 85cd38f9e2c9397a18013a8921841a04 57601d717fcf358220340675f8d63c8a 16e1ca26bc66e30bfa52f8a08846613d f8e92d8b5488ea76c40601c8f1a08790 b137c809e3bf11f2f5d867a6f4215f95 237e6dcbc6af50ef5f5211818522c463 88009adca35560810ec220544e4fb6aa 2163a33330ae5786d3e984db09b2d9d2 02b79c468c38c4312429a499fa4f6c81 842454b48f5f80002 9946b1555fba7fc d4a5d44184333442f5015699c2b8af28 b88633376fbb144971dcb503f72fd192 8f9f697aa6697acee70336f66f295837 b6f77273cbde76896a36e32b0c0540e1 1a4b9a6b321da199aa6d10180e889313 1421419d1be31f1f9ea60e8ed87277db 1a4b9a6b321da199aa6d10180e889313 9b10685b774a783eabfecdb6119a8aa3 aa34fb2e5849bﬀ4144a1c98a8158970 aced5525ba0d4f44ﬀd01c4db2730a34 b1d1a2c64474d2f6e7a5db71ccbafa31 b924ﬀ83d9120d934bb49a7a2e3c4292 cdb58c2999eeda58a9d0c70f910d1195 d4a5d44184333442f5015699c2b8af28 d6f2bf2066e053e58fe8bcd39cb2e9ad 34dc9a69f33ba93e631cd5048d9f2624 1c6f8eba504f2f429abf362626545c79 139c9ac0776804714ebe8b8d35a04641 e228cd74103dc069663bb87d4f22d7d5 bed5bc0a8aae2662ea5d2484f80c1760 8c3f5f1ﬀf999bc783062dd50357be79 5882a8dd4446abd137c05d2451b85fea 296c956fe429cedd1b64b78e66797122 82f06d7157dd28a75f1fbb47728aea25 9a975e0ddd32c0deef1318c485358b20 529424eae07677834a770aaa431e6c54 4cafde8fa7d9e67194d4edd4f2adb92b f6b2ef4daf1b78802548d3e6d4de7ba7 ede5d82bb6775a9b1659dccb699fadcb 116d2fc1665ce7524826a624be0ded1c 20ﬀ290b8393f006eaf4358f09f13e99 4b02dfdfd44df3c88b0ca8c2327843a4 c789ec7537e300411d523aef74407a5e 0b32e65caf653d77cab2a866ee2d9dbc 27faa10d1bec1a25f66e88645c695016 647edddf61954822ddb7ab3341f9a6c5 2f04b8eb993ca4a3d98607824a10acfb 9fe3a0fb3304d749aeed2c3e2e5787eb 62deab0e5d61d6bf9e0ba83d9e1d7e2b 86b607fe63c76b3d808f84969cb1a781 f62182cf0ab94b3c97b0261547dfc6cf 504182aaa5575bb38bf584839beb6d51 d79a21970cad03e22440ea66bd85931f related domains nethostnet com hostsvcnet com etcrem net movieultimate com newﬁlmts com fastdataexchange org liveweatherview com analyticsbar org analyticstest net lifeofmentalservice com meteost com righttopregnantpower com kiteim org adobe-ﬂash-updates org generalsecurityscan com globalresearching org lvueton com audiwheel com online-reggi com fsportal net netcorpscanprotect com mvband net mvtband net viters org treepastwillingmoment com sendmevideo org satellitedeluxpanorama com ppcodecs com encoder-info tk wmdmediacodecs com postlkwarn com shcserv com versiontask com share post webcdelivery com miropc org securityprotectingcorp com uniquecorpind com appexsrv net adobeupgradeﬂash com apt backdoor campaigns cyber espionage nation state sponsored espionage sofacy targeted attacks vulnerabilities exploits zero-day vulnerabilities related posts zero-day vulnerability telegramgas expensive let make cheap denis co\\n\\n### Response:\\n[\\'Initial Access\\', \\'Persistence\\', \\'Execution\\', \\'Privilege Escalation\\', \\'Defense Evasion\\', \\'Collection\\', \\'Command and Control\\', \\'Exfiltration\\', \\'Impact\\']<|end_of_text|>']"
            ]
          },
          "metadata": {},
          "execution_count": 24
        }
      ]
    },
    {
      "cell_type": "code",
      "source": [],
      "metadata": {
        "id": "N5y-eEANR-FB"
      },
      "execution_count": null,
      "outputs": []
    },
    {
      "cell_type": "markdown",
      "source": [
        "# TO-DO:\n",
        "\n",
        "maybe include this fragment in the prompt:\n",
        "\n",
        "\n",
        "Tactics represent the \"why\" of an ATT&CK technique or sub-technique. It is the adversary's tactical goal: the reason for performing an action. For example, an adversary may want to achieve credential access\n",
        "\n",
        "    Reconnaissance (Enterprise, ICS)\n",
        "    Resource Development (Enterprise, ICS)\n",
        "    Initial Access\n",
        "    Execution\n",
        "    Persistence\n",
        "    Privilege Escalation\n",
        "    Defense Evasion\n",
        "    Credential Access (Enterprise, Mobile)\n",
        "    Discovery\n",
        "    Lateral Movement\n",
        "    Collection\n",
        "    Command and Control\n",
        "    Exfiltration (Enterprise, Mobile)\n",
        "    Impact\n",
        "    Network Effects (Mobile-only)\n",
        "    Network Service Effects (Mobile-only)\n",
        "    Inhibit Response Function (ICS-only)\n",
        "    Impair Process Control (ICS-only)"
      ],
      "metadata": {
        "id": "oSM1wK9QStZN"
      }
    },
    {
      "cell_type": "code",
      "source": [],
      "metadata": {
        "id": "SBKsvvZBSwSu"
      },
      "execution_count": null,
      "outputs": []
    }
  ]
}