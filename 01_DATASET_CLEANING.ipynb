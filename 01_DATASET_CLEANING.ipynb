{
 "cells": [
  {
   "cell_type": "markdown",
   "metadata": {},
   "source": [
    "Este Notebook tiene como objetivo limpiar  y depurar un dataset orientado a finetuning conversacional orientado a generación de código de LLMs "
   ]
  },
  {
   "cell_type": "markdown",
   "metadata": {},
   "source": [
    "# 1 - Limpieza del Dataset"
   ]
  },
  {
   "cell_type": "code",
   "execution_count": 1,
   "metadata": {},
   "outputs": [
    {
     "data": {
      "application/vnd.jupyter.widget-view+json": {
       "model_id": "52f2dc2eb50f49f68842d5b32076c7d9",
       "version_major": 2,
       "version_minor": 0
      },
      "text/plain": [
       "Map:   0%|          | 0/251820 [00:00<?, ? examples/s]"
      ]
     },
     "metadata": {},
     "output_type": "display_data"
    },
    {
     "data": {
      "application/vnd.jupyter.widget-view+json": {
       "model_id": "b8990656cc5c49cdaef8af0200ca7d84",
       "version_major": 2,
       "version_minor": 0
      },
      "text/plain": [
       "Map:   0%|          | 0/13914 [00:00<?, ? examples/s]"
      ]
     },
     "metadata": {},
     "output_type": "display_data"
    },
    {
     "data": {
      "application/vnd.jupyter.widget-view+json": {
       "model_id": "947c8a3a0fbc45c0aadadc9c59af677c",
       "version_major": 2,
       "version_minor": 0
      },
      "text/plain": [
       "Map:   0%|          | 0/14918 [00:00<?, ? examples/s]"
      ]
     },
     "metadata": {},
     "output_type": "display_data"
    },
    {
     "name": "stdout",
     "output_type": "stream",
     "text": [
      "Datasets filtrados guardados exitosamente en la carpeta /datasets.\n"
     ]
    },
    {
     "ename": "",
     "evalue": "",
     "output_type": "error",
     "traceback": [
      "\u001b[1;31mThe Kernel crashed while executing code in the current cell or a previous cell. \n",
      "\u001b[1;31mPlease review the code in the cell(s) to identify a possible cause of the failure. \n",
      "\u001b[1;31mClick <a href='https://aka.ms/vscodeJupyterKernelCrash'>here</a> for more info. \n",
      "\u001b[1;31mView Jupyter <a href='command:jupyter.viewOutput'>log</a> for further details."
     ]
    }
   ],
   "source": [
    "import os\n",
    "\n",
    "# Crear la carpeta /datasets si no existe\n",
    "output_dir = './datasets'\n",
    "if not os.path.exists(output_dir):\n",
    "    os.makedirs(output_dir)\n",
    "\n",
    "# Cargar el dataset de Huggingface\n",
    "from datasets import load_dataset\n",
    "\n",
    "# Cargar el dataset de Huggingface\n",
    "dataset = load_dataset(\"code_x_glue_ct_code_to_text\", \"python\")\n",
    "\n",
    "# Función para filtrar las columnas 'code' y 'docstring'\n",
    "def filter_columns(example):\n",
    "    return {'code': example['code'], 'docstring': example['docstring']}\n",
    "\n",
    "# Filtrar los splits de entrenamiento, validación y test\n",
    "train_filtered = dataset['train'].map(filter_columns, remove_columns=dataset['train'].column_names)\n",
    "validation_filtered = dataset['validation'].map(filter_columns, remove_columns=dataset['validation'].column_names)\n",
    "test_filtered = dataset['test'].map(filter_columns, remove_columns=dataset['test'].column_names)\n",
    "\n",
    "# Convertir los datasets filtrados a DataFrames de pandas\n",
    "import pandas as pd\n",
    "\n",
    "df_train_filtered = pd.DataFrame(train_filtered)\n",
    "df_validation_filtered = pd.DataFrame(validation_filtered)\n",
    "df_test_filtered = pd.DataFrame(test_filtered)\n",
    "\n",
    "# Guardar los DataFrames resultantes a archivos JSON en la carpeta /datasets\n",
    "output_dir = './datasets'\n",
    "df_train_filtered.to_json(f'{output_dir}/train_filtered.json', orient='records', lines=True)\n",
    "df_validation_filtered.to_json(f'{output_dir}/validation_filtered.json', orient='records', lines=True)\n",
    "df_test_filtered.to_json(f'{output_dir}/test_filtered.json', orient='records', lines=True)\n",
    "\n",
    "print(\"Datasets filtrados guardados exitosamente en la carpeta /datasets.\")\n",
    "\n"
   ]
  }
 ],
 "metadata": {
  "kernelspec": {
   "display_name": "Python 3",
   "language": "python",
   "name": "python3"
  },
  "language_info": {
   "codemirror_mode": {
    "name": "ipython",
    "version": 3
   },
   "file_extension": ".py",
   "mimetype": "text/x-python",
   "name": "python",
   "nbconvert_exporter": "python",
   "pygments_lexer": "ipython3",
   "version": "3.12.4"
  }
 },
 "nbformat": 4,
 "nbformat_minor": 2
}
